{
 "cells": [
  {
   "cell_type": "code",
   "execution_count": 1,
   "metadata": {},
   "outputs": [],
   "source": [
    "import os, pathlib, re\n",
    "\n",
    "# Defining the function\n",
    "def getEmailCounts(path1='../got-your-back/GYB-GMail-Backup-pratik@cloudxlab.com/', field='To', pattern='([<].*@[^>]*)'):\n",
    "    emails_dict=dict()\n",
    "    # Looping through all the files present under the path directory\n",
    "    for path, subdirs, files in os.walk(path1):\n",
    "        for name in files:\n",
    "            # Skipping the sql lite file, all other files are email files\n",
    "            if(name.endswith('sqlite')):\n",
    "                continue\n",
    "            # Creating a handle on the file\n",
    "            hand=open(pathlib.PurePath(path, name))\n",
    "            index=0\n",
    "            for line in hand:\n",
    "                index+=1\n",
    "                email=''\n",
    "                # Applying the condition to find the details as requested in the project\n",
    "                if line.startswith(field+\":\"):\n",
    "                    email=re.findall(pattern,line)[0][1:]\n",
    "                    print(email)\n",
    "                    #emails_dict[email]=emails_dict.get(email,0)+1\n",
    "    #emails_dict=dict(sorted(emails_dict.items(), key=lambda x:x[1],reverse=True))\n",
    "\n",
    "# Calling the defined function\n",
    "getEmailCounts('../got-your-back/GYB-GMail-Backup-sirivennela1971@gmail.com/', 'To', '([ <].*@[^>\\n ]*)')"
   ]
  },
  {
   "cell_type": "code",
   "execution_count": null,
   "metadata": {},
   "outputs": [],
   "source": []
  }
 ],
 "metadata": {
  "kernelspec": {
   "display_name": "Python 3",
   "language": "python",
   "name": "python3"
  },
  "language_info": {
   "codemirror_mode": {
    "name": "ipython",
    "version": 3
   },
   "file_extension": ".py",
   "mimetype": "text/x-python",
   "name": "python",
   "nbconvert_exporter": "python",
   "pygments_lexer": "ipython3",
   "version": "3.6.5"
  }
 },
 "nbformat": 4,
 "nbformat_minor": 2
}
